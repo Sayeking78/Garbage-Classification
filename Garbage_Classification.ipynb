{
 "cells": [
  {
   "cell_type": "code",
   "execution_count": null,
   "id": "bceb2bff",
   "metadata": {},
   "outputs": [],
   "source": [
    "import cv2\n",
    "import numpy as np\n",
    "import tensorflow as tf"
   ]
  },
  {
   "cell_type": "code",
   "execution_count": null,
   "id": "53d4ab9b-e7df-496e-9a23-3121ae9def13",
   "metadata": {},
   "outputs": [],
   "source": [
    "# Eğitimli çöp sınıflandırma modelinizi yükleyin\n",
    "model_yolu = \"garbagemodel.h5\"  # Model yolunuzu değiştirin\n",
    "model = tf.keras.models.load_model(model_yolu)\n",
    "BOYUT = 64"
   ]
  },
  {
   "cell_type": "code",
   "execution_count": null,
   "id": "f1426b8d",
   "metadata": {},
   "outputs": [],
   "source": [
    "# Bir görüntüyü model girişi için ön işleme fonksiyonu\n",
    "def goruntuyu_on_isle(goruntu):\n",
    "    # Görüntüyü modelinizin giriş boyutuna yeniden boyutlandırın\n",
    "    goruntu = cv2.resize(goruntu, (BOYUT, BOYUT))\n",
    "    # Piksel değerlerini normalleştirin (modelinizin 0 ile 1 arasındaki değerleri beklediğini varsayarak)\n",
    "    goruntu = goruntu / 255.0\n",
    "    # Toplu işleme için görüntü boyutunu genişletin (isteğe bağlı)\n",
    "    goruntu = np.expand_dims(goruntu, axis=0)\n",
    "    return goruntu"
   ]
  },
  {
   "cell_type": "code",
   "execution_count": null,
   "id": "156520fd",
   "metadata": {},
   "outputs": [],
   "source": [
    "kamera = cv2.VideoCapture(0)  # Doğru kamera indeksini girin\n",
    "\n",
    "while True:\n",
    "    # Kameradan bir kare yakalayın\n",
    "    ret, frame = kamera.read()\n",
    "    if not ret:\n",
    "        break\n",
    "\n",
    "    # Çerçeve görüntüsünü ön işleyin\n",
    "    on_islemeli_goruntu = goruntuyu_on_isle(frame)\n",
    "\n",
    "    # Modelinizi kullanarak tahmin yapın\n",
    "    tahmin = model.predict(on_islemeli_goruntu)\n",
    "    # En yüksek olasılığa sahip tahmin edilen sınıf dizinini alın\n",
    "    tahmin_edilen_sınıf_dizini = np.argmax(tahmin)\n",
    "\n",
    "    # Dizin bazında sınıf etiketini alın\n",
    "    tahmin_edilen_etiket = kategoriler[tahmin_edilen_sınıf_dizini]\n",
    "    # Tahmin olasılığını alın\n",
    "    tahmin_olasılığı = tahmin[0][tahmin_edilen_sınıf_dizini] * 100  # Yüzdeye dönüştürün\n",
    "\n",
    "    # Tahmin edilen nesnenin etrafına bir dikdörtgen çizin\n",
    "    if tahmin_olasılığı > 0.5:  # Tahmin olasılığı 0.5'ten yüksekse\n",
    "        # Dikdörtgeni çizin\n",
    "        cv2.rectangle(frame, (0, 0), (frame.shape[1], frame.shape[0]), (0, 255, 0), 2)\n",
    "\n",
    "    # Tahmini çerçevede görüntüleyin\n",
    "    cv2.putText(frame, f\"{tahmin_edilen_etiket}: {tahmin_olasılığı:.2f}%\", (10, 30), cv2.FONT_HERSHEY_SIMPLEX, 1, (0, 255, 0), 2)\n",
    "\n",
    "    # Çerçeveyi görüntüleyin\n",
    "    cv2.imshow('Çöp Sınıflandırma', frame)\n",
    "\n",
    "    # 'q' tuşuna basıldığında çıkın\n",
    "    if cv2.waitKey(1) & 0xFF == ord('q'):\n",
    "        break\n"
   ]
  },
  {
   "cell_type": "code",
   "execution_count": null,
   "id": "6420fa13",
   "metadata": {},
   "outputs": [],
   "source": [
    "# Kamera kaynaklarını serbest bırakın\n",
    "kamera.release()\n",
    "cv2.destroyAllWindows()"
   ]
  }
 ],
 "metadata": {
  "kernelspec": {
   "display_name": "Python 3 (ipykernel)",
   "language": "python",
   "name": "python3"
  },
  "language_info": {
   "codemirror_mode": {
    "name": "ipython",
    "version": 3
   },
   "file_extension": ".py",
   "mimetype": "text/x-python",
   "name": "python",
   "nbconvert_exporter": "python",
   "pygments_lexer": "ipython3",
   "version": "3.11.7"
  }
 },
 "nbformat": 4,
 "nbformat_minor": 5
}
